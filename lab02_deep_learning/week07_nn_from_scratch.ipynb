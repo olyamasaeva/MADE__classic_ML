{
 "cells": [
  {
   "cell_type": "markdown",
   "metadata": {},
   "source": [
    "### Neural network from scratch.\n",
    "\n",
    "Based on YSDA Deep Learning course materials."
   ]
  },
  {
   "cell_type": "code",
   "execution_count": 1,
   "metadata": {},
   "outputs": [],
   "source": [
    "%matplotlib inline\n",
    "from time import time, sleep\n",
    "import numpy as np\n",
    "import matplotlib.pyplot as plt\n",
    "from IPython import display"
   ]
  },
  {
   "cell_type": "markdown",
   "metadata": {},
   "source": [
    "We will implement most common layers using `numpy` for matrix operations. In file `modules.py` are presented the abstract classes for layer, criterion and sequential model class.\n",
    "\n",
    "The architecture, naming and API are inspired py PyTorch implementation, which will be used in this course further. \n",
    "\n",
    "Please, __do not__ change the classes/functions signatures."
   ]
  },
  {
   "cell_type": "markdown",
   "metadata": {},
   "source": [
    "#### Some comments\n",
    "Original `numpy` operation are more preferable than overloaded ones (`+`, `*`, `-`, etc. vs `np.add`, `np.multiply`, `np.substract`). They show more expectable memory usage and seem unified with tensor frameworks.\n",
    "\n",
    "*Example:*\n",
    "\n",
    "```\n",
    "a = np.zeros_like(arr1)\n",
    "\n",
    "a = arr1 + arr2 #  bad, we reallocate memory for the result of + operation\n",
    "\n",
    "a = np.zeros_like(arr1)\n",
    "\n",
    "np.add(arr1, arr2, out=a) #  good, we use same allocated memory, no need to call gc\n",
    "```"
   ]
  },
  {
   "cell_type": "code",
   "execution_count": 6,
   "metadata": {},
   "outputs": [],
   "source": [
    "from modules import Module, Sequential, Criterion"
   ]
  },
  {
   "cell_type": "markdown",
   "metadata": {},
   "source": [
    "### Impelementing main layers"
   ]
  },
  {
   "cell_type": "markdown",
   "metadata": {},
   "source": [
    "Before we begin: a [great playground](https://playground.tensorflow.org) to look at."
   ]
  },
  {
   "cell_type": "markdown",
   "metadata": {},
   "source": [
    "Try to implement main layers in numpy. Today we stop only on most common ones."
   ]
  },
  {
   "cell_type": "markdown",
   "metadata": {},
   "source": [
    "Good read on [Vector, Matrix and Tensor derivatives](http://cs231n.stanford.edu/vecDerivs.pdf)"
   ]
  },
  {
   "cell_type": "code",
   "execution_count": 113,
   "metadata": {},
   "outputs": [],
   "source": [
    "class Linear(Module):\n",
    "    \"\"\"\n",
    "    A module which applies a linear transformation \n",
    "    A common name is fully-connected layer, InnerProductLayer in caffe. \n",
    "    \n",
    "    The module should work with 2D _input of shape (n_samples, n_feature).\n",
    "    \"\"\"\n",
    "    def __init__(self, n_in, n_out):\n",
    "        super(Linear, self).__init__()\n",
    "       \n",
    "        # This is a nice initialization\n",
    "        stdv = 1./np.sqrt(n_in)\n",
    "\n",
    "        self.W = np.random.uniform(-stdv, stdv, size = (n_in, n_out))\n",
    "        self.b = np.random.uniform(-stdv, stdv, size = n_out)\n",
    "        \n",
    "        self.gradW = np.zeros_like(self.W)\n",
    "        self.gradb = np.zeros_like(self.b)\n",
    "        \n",
    "    def updateOutput(self, _input):\n",
    "        # Your code goes here. ################################################\n",
    "        print(_input)\n",
    "        print(self.W)\n",
    "        print(self.b)\n",
    "        self.output = np.matmul(_input, self.W) + self.b[None,:]\n",
    "        return self.output\n",
    "    \n",
    "    def updateGradInput(self, _input, gradOutput):\n",
    "        # Your code goes here. ################################################\n",
    "        self.gradInput = np.matmul(gradOutput, self.W.T)\n",
    "        return self.gradInput\n",
    "    \n",
    "    def accGradParameters(self, _input, gradOutput):\n",
    "        # Your code goes here. ################################################\n",
    "        # self.gradW = ... ; self.gradb = ...\n",
    "        self.gradW += np.matmul(_input.T, gradOutput)\n",
    "        self.gradb += np.sum(gradOutput, axis=0)\n",
    "    \n",
    "    def zeroGradParameters(self):\n",
    "        self.gradW.fill(0)\n",
    "        self.gradb.fill(0)\n",
    "        \n",
    "    def getParameters(self):\n",
    "        return [self.W, self.b]\n",
    "    \n",
    "    def getGradParameters(self):\n",
    "        return [self.gradW, self.gradb]\n",
    "    \n",
    "    def __repr__(self):\n",
    "        s = self.W.shape\n",
    "        q = 'Linear %d -> %d' %(s[1],s[0])\n",
    "        return q"
   ]
  },
  {
   "cell_type": "code",
   "execution_count": 8,
   "metadata": {},
   "outputs": [],
   "source": [
    "class SoftMax(Module):\n",
    "    def __init__(self):\n",
    "         super(SoftMax, self).__init__()\n",
    "    \n",
    "    def updateOutput(self, _input):\n",
    "        # start with normalization for numerical stability\n",
    "        self.output = np.subtract(_input, _input.max(axis=1, keepdims=True))\n",
    "        \n",
    "        self.output = np.exp(self.output)\n",
    "        self.output = self.output / np.sum(self.output, axis=1, keepdims=True)\n",
    "        \n",
    "        return self.output\n",
    "    \n",
    "    def updateGradInput(self, _input, gradOutput):\n",
    "          ################################################\n",
    "        # First we create for each example feature vector, it's outer product with itself\n",
    "        # ( p1^2  p1*p2  p1*p3 .... )\n",
    "        # ( p2*p1 p2^2   p2*p3 .... )\n",
    "        # ( ...                     )\n",
    "        local_repr1 = np.einsum('bi,bj->bij', self.output, self.output)\n",
    "        # your code here \n",
    "        # Second we need to create an (n_feats, n_feats) identity of the feature vector\n",
    "        # ( p1  0  0  ...  )\n",
    "        # ( 0   p2 0  ...  )\n",
    "        # ( ...            )\n",
    "        # your code here \n",
    "        local_repr2 = np.einsum('bi,ij->bij', self.output, np.eye(_input.shape[1], _input.shape[1]))\n",
    "        # Then we need to subtract the first tensor from the second\n",
    "        # ( p1 - p1^2   -p1*p2   -p1*p3  ... )\n",
    "        # ( -p1*p2     p2 - p2^2   -p2*p3 ...)\n",
    "        # ( ...                              )\n",
    "        # your code here \n",
    "        local_repr = local_repr2 - local_repr1\n",
    "        self.gradInput = np.einsum('bij,bi->bj', local_repr, gradOutput)\n",
    "        ################################################\n",
    "        return self.gradInput\n",
    "    \n",
    "    def __repr__(self):\n",
    "        return \"SoftMax\""
   ]
  },
  {
   "cell_type": "code",
   "execution_count": 90,
   "metadata": {},
   "outputs": [],
   "source": [
    "class LogSoftMax(Module):\n",
    "    EPS = 1e-15\n",
    "    def __init__(self):\n",
    "         super(LogSoftMax, self).__init__()\n",
    "    \n",
    "    def updateOutput(self, _input):\n",
    "        # start with normalization for numerical stability\n",
    "        self.output = np.subtract(_input, _input.max(axis=1, keepdims=True))\n",
    "        self.output = np.exp(self.output)\n",
    "        self.output = self.output / np.sum(self.output, axis=1, keepdims=True)\n",
    "        clipped_input = np.clip(self.output, self.EPS,1 - self.EPS)\n",
    "        self.output = np.log(clipped_input)\n",
    "        # Your code goes here. ################################################\n",
    "\n",
    "        return self.output\n",
    "    \n",
    "    def updateGradInput(self, _input, gradOutput):\n",
    "        # Your code goes here. ################################################\n",
    "        local_repr2 = np.einsum('bi,ij->bij', self.output, np.eye(_input.shape[1], _input.shape[1]))\n",
    "        local_repr = np.eye(_input.shape[1], _input.shape[1]) - local_repr2\n",
    "        self.gradInput = np.einsum('bij,bi->bj', local_repr, gradOutput)\n",
    "        return self.gradInput\n",
    "    \n",
    "    def __repr__(self):\n",
    "        return \"LogSoftMax\""
   ]
  },
  {
   "cell_type": "code",
   "execution_count": 10,
   "metadata": {},
   "outputs": [],
   "source": [
    "class ReLU(Module):\n",
    "    def __init__(self):\n",
    "         super(ReLU, self).__init__()\n",
    "    \n",
    "    def updateOutput(self, _input):\n",
    "        self.output = np.maximum(_input, 0)\n",
    "        return self.output\n",
    "    \n",
    "    def updateGradInput(self, _input, gradOutput):\n",
    "        self.gradInput = np.multiply(gradOutput , _input > 0)\n",
    "        return self.gradInput\n",
    "    \n",
    "    def __repr__(self):\n",
    "        return \"ReLU\""
   ]
  },
  {
   "cell_type": "code",
   "execution_count": 16,
   "metadata": {},
   "outputs": [],
   "source": [
    "class LeakyReLU(Module):\n",
    "    def __init__(self, slope = 0.03):\n",
    "        super(LeakyReLU, self).__init__()\n",
    "            \n",
    "        self.slope = slope\n",
    "        \n",
    "    def updateOutput(self, _input):\n",
    "        # Your code goes here. ################################################\n",
    "\n",
    "        return self.output\n",
    "    \n",
    "    def updateGradInput(self, _input, gradOutput):\n",
    "        # Your code goes here. ################################################\n",
    "\n",
    "        return self.slope * (1 - mask) * gradOutput + mask * gradOutput\n",
    "    \n",
    "    def __repr__(self):\n",
    "        return \"LeakyReLU\""
   ]
  },
  {
   "cell_type": "code",
   "execution_count": 13,
   "metadata": {},
   "outputs": [],
   "source": [
    "class ClassNLLCriterionUnstable(Criterion):\n",
    "    EPS = 1e-15\n",
    "    def __init__(self):\n",
    "        a = super(ClassNLLCriterionUnstable, self)\n",
    "        super(ClassNLLCriterionUnstable, self).__init__()\n",
    "        \n",
    "    def updateOutput(self, input, target):   \n",
    "        ################################################\n",
    "        # Use clipping trick to avoid numerical errors\n",
    "        # your code here \n",
    "        ################################################\n",
    "        clipped_input = np.clip(input, self.EPS,1 - self.EPS)\n",
    "        self.output = -np.sum(target * np.log(clipped_input))  / input.shape[0]\n",
    "        return self.output\n",
    "\n",
    "    def updateGradInput(self, input, target):\n",
    "        ################################################\n",
    "        # Use clipping trick to avoid numerical errors\n",
    "        # your code here \n",
    "        ################################################\n",
    "        clipped_input = np.clip(input, self.EPS,1 - self.EPS)\n",
    "        self.gradInput = -(target/clipped_input) / input.shape[0]\n",
    "        return self.gradInput\n",
    "    \n",
    "    def __repr__(self):\n",
    "        return \"ClassNLLCriterionUnstable\""
   ]
  },
  {
   "cell_type": "code",
   "execution_count": null,
   "metadata": {},
   "outputs": [],
   "source": [
    "class ClassNLLCriterion(Criterion):\n",
    "    def __init__(self):\n",
    "        a = super(ClassNLLCriterion, self)\n",
    "        super(ClassNLLCriterion, self).__init__()\n",
    "        \n",
    "    def updateOutput(self, _input, target): \n",
    "        # Your code goes here. ################################################\n",
    "        self.output = -np.sum(target * _input)  / _input.shape[0]\n",
    "        return self.output\n",
    "\n",
    "    def updateGradInput(self, _input, target):\n",
    "        # Your code goes here. ################################################\n",
    "        self.gradInput = -(target/np.exp(_input) / _input.shape[0])\n",
    "        return self.gradInput\n",
    "    \n",
    "    def __repr__(self):\n",
    "        return \"ClassNLLCriterion\""
   ]
  },
  {
   "cell_type": "code",
   "execution_count": 27,
   "metadata": {},
   "outputs": [],
   "source": [
    "def simple_sgd(variables, gradients, config, state):  \n",
    "    # 'variables' and 'gradients' have complex structure, accumulated_grads will be stored in a simpler one\n",
    "    state.setdefault('accumulated_grads', {})\n",
    "    \n",
    "    var_index = 0 \n",
    "    for current_layer_vars, current_layer_grads in zip(variables, gradients): \n",
    "        for current_var, current_grad in zip(current_layer_vars, current_layer_grads):\n",
    "            \n",
    "            current_var -= config['learning_rate'] * current_grad\n",
    "            var_index += 1     "
   ]
  },
  {
   "cell_type": "markdown",
   "metadata": {},
   "source": [
    "### Toy example"
   ]
  },
  {
   "cell_type": "markdown",
   "metadata": {},
   "source": [
    "Use this example to debug your code, start with logistic regression and then test other layers. You do not need to change anything here. This code is provided for you to test the layers. Also it is easy to use this code in MNIST task."
   ]
  },
  {
   "cell_type": "code",
   "execution_count": 16,
   "metadata": {
    "scrolled": false
   },
   "outputs": [
    {
     "data": {
      "text/plain": [
       "<matplotlib.collections.PathCollection at 0x141f3d70b10>"
      ]
     },
     "execution_count": 16,
     "metadata": {},
     "output_type": "execute_result"
    },
    {
     "data": {
      "image/png": "[encoded data removed]",
      "text/plain": [
       "<Figure size 640x480 with 1 Axes>"
      ]
     },
     "metadata": {},
     "output_type": "display_data"
    }
   ],
   "source": [
    "# Generate some data\n",
    "N = 500\n",
    "\n",
    "X1 = np.random.randn(N,2) + np.array([2,2])\n",
    "X2 = np.random.randn(N,2) + np.array([-2,-2])\n",
    "\n",
    "Y = np.concatenate([np.ones(N),np.zeros(N)])[:,None]\n",
    "Y = np.hstack([Y, 1-Y])\n",
    "\n",
    "X = np.vstack([X1,X2])\n",
    "plt.scatter(X[:,0],X[:,1], c = Y[:,0], edgecolors= 'none')"
   ]
  },
  {
   "cell_type": "markdown",
   "metadata": {},
   "source": [
    "Define a **logistic regression** for debugging. "
   ]
  },
  {
   "cell_type": "code",
   "execution_count": 91,
   "metadata": {},
   "outputs": [
    {
     "name": "stdout",
     "output_type": "stream",
     "text": [
      "Linear 2 -> 2\n",
      "LogSoftMax\n",
      "\n"
     ]
    }
   ],
   "source": [
    "net = Sequential()\n",
    "net.add(Linear(2, 2))\n",
    "net.add(LogSoftMax())\n",
    "\n",
    "criterion = ClassNLLCriterion()\n",
    "\n",
    "print(net)\n",
    "\n",
    "# Test something like that then \n",
    "\n",
    "#net = Sequential()\n",
    "#net.add(Linear(2, 4))\n",
    "#net.add(ReLU())\n",
    "#net.add(Linear(4, 2))\n",
    "#net.add(LogSoftMax())\n",
    "\n",
    "#print(net)"
   ]
  },
  {
   "cell_type": "markdown",
   "metadata": {},
   "source": [
    "Start with batch_size = 1000 to make sure every step lowers the loss, then try stochastic version."
   ]
  },
  {
   "cell_type": "code",
   "execution_count": 92,
   "metadata": {},
   "outputs": [],
   "source": [
    "# Iptimizer params\n",
    "optimizer_config = {'learning_rate' : 1e-1}\n",
    "optimizer_state = {}\n",
    "\n",
    "# Looping params\n",
    "n_epoch = 20\n",
    "batch_size = 128"
   ]
  },
  {
   "cell_type": "code",
   "execution_count": 93,
   "metadata": {},
   "outputs": [],
   "source": [
    "# batch generator\n",
    "def get_batches(dataset, batch_size):\n",
    "    X, Y = dataset\n",
    "    n_samples = X.shape[0]\n",
    "        \n",
    "    # Shuffle at the start of epoch\n",
    "    indices = np.arange(n_samples)\n",
    "    np.random.shuffle(indices)\n",
    "    \n",
    "    for start in range(0, n_samples, batch_size):\n",
    "        end = min(start + batch_size, n_samples)\n",
    "        \n",
    "        batch_idx = indices[start:end]\n",
    "    \n",
    "        yield X[batch_idx], Y[batch_idx]"
   ]
  },
  {
   "cell_type": "markdown",
   "metadata": {},
   "source": [
    "### Train"
   ]
  },
  {
   "cell_type": "markdown",
   "metadata": {},
   "source": [
    "Basic training loop. Examine it."
   ]
  },
  {
   "cell_type": "code",
   "execution_count": 108,
   "metadata": {
    "scrolled": false
   },
   "outputs": [
    {
     "name": "stdout",
     "output_type": "stream",
     "text": [
      "[[ 2.36997492  0.88693444]\n",
      " [ 1.9087669   2.51691075]\n",
      " [ 2.85640926  2.35957698]\n",
      " [ 0.98893252 -0.31903111]\n",
      " [ 3.05416938  3.96393397]\n",
      " [ 0.88728903  1.82280212]\n",
      " [ 3.10235808  1.18793266]\n",
      " [ 3.56703458  1.44985713]\n",
      " [-2.41089282 -3.14056752]\n",
      " [ 1.65002788  4.00725864]\n",
      " [ 0.66223098  0.97818058]\n",
      " [ 0.80047753  1.99923162]\n",
      " [-0.09903892  2.41657267]\n",
      " [-3.36413527 -1.77046029]\n",
      " [ 3.97304501  2.75056311]\n",
      " [ 2.25426029  1.28554231]\n",
      " [-1.70423709 -1.29122719]\n",
      " [-1.5024425  -2.95602553]\n",
      " [ 2.35443541  1.85734049]\n",
      " [-1.20678944 -1.31077917]\n",
      " [ 0.90324572  2.39898208]\n",
      " [-1.11810291 -2.77355413]\n",
      " [ 4.13165638  2.01374767]\n",
      " [-1.50545672 -1.5456415 ]\n",
      " [ 2.27611788  0.77115315]\n",
      " [ 2.38867931  2.31883752]\n",
      " [-2.17459608 -3.54953287]\n",
      " [-1.89708406 -0.00602168]\n",
      " [ 1.25333874  1.21034972]\n",
      " [ 1.74578187  2.05895905]\n",
      " [ 2.44836625  0.46063918]\n",
      " [ 0.91745321  1.6885836 ]\n",
      " [-2.80583257 -1.94946603]\n",
      " [-3.43658714 -3.09726374]\n",
      " [-3.17766006 -1.08919752]\n",
      " [ 2.26724072  2.55669235]\n",
      " [-1.84250354 -2.14214964]\n",
      " [-1.39562677 -2.87274828]\n",
      " [-2.0728287  -1.77735763]\n",
      " [ 0.37235734  1.32042073]\n",
      " [ 0.69695975  2.40126694]\n",
      " [ 4.29518404  2.95313382]\n",
      " [-0.80270707 -0.79290446]\n",
      " [ 0.69608635  2.68380808]\n",
      " [ 1.92050929  2.34344367]\n",
      " [-1.25664484 -2.85498829]\n",
      " [ 2.97403784  3.31324754]\n",
      " [ 0.40872216  1.63534448]\n",
      " [ 1.51422687  1.79391936]\n",
      " [-1.89723966 -0.42460571]\n",
      " [-0.93776294 -1.85719701]\n",
      " [ 2.30507618  0.7700391 ]\n",
      " [-2.09481931 -1.98899259]\n",
      " [-1.21834965 -1.24677357]\n",
      " [ 2.84103016  2.03259151]\n",
      " [ 1.76238058  1.56238817]\n",
      " [ 2.15137829  1.54179309]\n",
      " [ 1.0497473   2.77278867]\n",
      " [-0.58450482 -2.21208682]\n",
      " [ 2.14333065  3.00968789]\n",
      " [-1.5165332  -1.98769788]\n",
      " [-1.52099489 -0.10671994]\n",
      " [-2.99861714  1.28907449]\n",
      " [ 1.5931808   3.15858254]\n",
      " [-1.87433243 -2.16072564]\n",
      " [ 2.46469413  0.92006758]\n",
      " [-1.60116814 -2.62519953]\n",
      " [ 1.23718179  2.29956178]\n",
      " [ 2.14096178  2.98863987]\n",
      " [ 2.14941344  1.81704494]\n",
      " [ 2.82466985  2.34605629]\n",
      " [ 1.68637819  2.44797719]\n",
      " [ 2.86692668  3.09248202]\n",
      " [ 3.31956253  1.86806463]\n",
      " [ 2.32728429  1.83588296]\n",
      " [ 2.2310705   0.29204835]\n",
      " [-1.52123396 -2.13576401]\n",
      " [-1.97248028 -3.9779644 ]\n",
      " [ 1.68005507  1.80082156]\n",
      " [ 1.43270296  2.79019571]\n",
      " [ 2.64134492  1.91714155]\n",
      " [ 1.64794651  0.58785967]\n",
      " [ 2.31939827  3.15818657]\n",
      " [ 1.40687291  2.09799917]\n",
      " [-1.09845126 -2.71282853]\n",
      " [ 2.95371131  2.65537195]\n",
      " [ 0.74653702  1.65895464]\n",
      " [ 0.64977454  0.97650944]\n",
      " [-1.73572441 -3.02686377]\n",
      " [-3.09901849 -0.68810608]\n",
      " [ 1.86136242  2.70543818]\n",
      " [-3.35639718 -2.645134  ]\n",
      " [ 1.58239394  0.92859058]\n",
      " [ 3.53611642  1.23152333]\n",
      " [ 1.2448383   3.80079699]\n",
      " [-2.6919963  -2.43762812]\n",
      " [ 3.24289745  3.6649245 ]\n",
      " [ 2.02425116  2.06677896]\n",
      " [ 2.82811091  1.53072304]\n",
      " [-1.86684832 -2.11383483]\n",
      " [-1.08554081 -2.61663832]\n",
      " [ 0.44744345  2.5720188 ]\n",
      " [-1.34551663 -2.56476143]\n",
      " [-3.54123777 -0.03329873]\n",
      " [-1.5847377  -0.02607093]\n",
      " [ 1.6019463   1.70362636]\n",
      " [ 1.5025059   2.61798372]\n",
      " [ 4.51779591  1.07510267]\n",
      " [-1.09164719 -2.49939987]\n",
      " [-1.15660412 -1.67173823]\n",
      " [ 1.75902525  3.45754127]\n",
      " [ 2.75577719  1.80725489]\n",
      " [ 2.00574141  4.06596739]\n",
      " [-1.05440308 -4.19963964]\n",
      " [ 0.72201092  2.10536269]\n",
      " [-1.75387966 -1.66559106]\n",
      " [-1.94961513 -2.74169059]\n",
      " [ 1.08664495  1.70573487]\n",
      " [-1.87970047 -1.56310303]\n",
      " [ 3.23659105  2.51910708]\n",
      " [-2.20405346 -1.53534972]\n",
      " [ 1.38492781  2.50603197]\n",
      " [-0.57686141 -2.28963452]\n",
      " [-2.89139594 -2.83229028]\n",
      " [ 1.72976543  1.60657394]\n",
      " [-0.92719288 -2.7980748 ]\n",
      " [-3.02616204 -2.97173569]\n",
      " [-1.89039679 -3.00511159]]\n",
      "[[-0.0107414  -0.03266768 -0.02464625 ... -0.02867679  0.01310086\n",
      "  -0.01876592]\n",
      " [-0.01497323  0.01353348  0.03139786 ... -0.03060113 -0.02785501\n",
      "   0.01659473]\n",
      " [ 0.03025283  0.00614686  0.01124834 ...  0.01696483  0.02563378\n",
      "  -0.00572849]\n",
      " ...\n",
      " [ 0.03032855  0.01820947 -0.00229097 ...  0.02634346 -0.00931581\n",
      "   0.02773615]\n",
      " [ 0.03233655 -0.03552057  0.00880871 ... -0.02962154  0.0251604\n",
      "   0.00785892]\n",
      " [ 0.03157963  0.03144545 -0.00375136 ...  0.02975518 -0.00283303\n",
      "   0.03335849]]\n",
      "[-0.03048898 -0.03389681  0.0313298  -0.01080686  0.02964571  0.02215492\n",
      "  0.01314629  0.00999577  0.01367017 -0.03256915  0.00136006  0.0336447\n",
      "  0.02569033  0.00757529  0.01343667  0.01063421 -0.0001772   0.00319071\n",
      " -0.02301321  0.01524405 -0.01375426 -0.00827001 -0.01657295  0.0134929\n",
      " -0.03526242  0.02432575  0.0288756   0.02289373  0.03119324  0.011059\n",
      " -0.03564348 -0.02164326 -0.01718256  0.0092995   0.0252369   0.00632381\n",
      "  0.02179672 -0.02269647  0.00855216  0.02063457 -0.00774131 -0.00081895\n",
      "  0.02560673  0.01579242  0.01884012 -0.01297709 -0.00982179 -0.00695555\n",
      "  0.01979011  0.03247551  0.01612084  0.02052003 -0.01215171 -0.03083422\n",
      "  0.01552834  0.03282999 -0.01078065 -0.02338339  0.01305046  0.00264294\n",
      "  0.02621573 -0.00420275  0.02815853 -0.02121262  0.00305704  0.0170328\n",
      " -0.02845208 -0.01027611  0.0241672  -0.01658253 -0.00081839  0.02167903\n",
      " -0.02872149 -0.00774835  0.00464048 -0.02598257 -0.00849891 -0.02644093\n",
      " -0.03258717 -0.02765443  0.01214272  0.03374912 -0.02774655  0.00781422\n",
      "  0.00106669 -0.00325124  0.02058403 -0.01689661 -0.03364309  0.00086947\n",
      " -0.0130997   0.03224116 -0.02703631  0.01706558 -0.02181517 -0.0330927\n",
      "  0.00685402 -0.02686428 -0.00600521 -0.02325352  0.01895471  0.02181628\n",
      "  0.01884526 -0.02204838 -0.03336134 -0.02063084  0.01238401  0.02510889\n",
      " -0.02266601 -0.0157044   0.02120866 -0.03518877 -0.00557361  0.00591729\n",
      "  0.02194086 -0.01201    -0.03301605  0.03322364  0.03357193  0.02683174\n",
      "  0.0212138   0.00485333 -0.0269882  -0.02887961 -0.02978905 -0.00638852\n",
      " -0.03315059  0.01924304]\n"
     ]
    },
    {
     "ename": "ValueError",
     "evalue": "matmul: Input operand 1 has a mismatch in its core dimension 0, with gufunc signature (n?,k),(k,m?)->(n?,m?) (size 784 is different from 2)",
     "output_type": "error",
     "traceback": [
      "\u001b[1;31m---------------------------------------------------------------------------\u001b[0m",
      "\u001b[1;31mValueError\u001b[0m                                Traceback (most recent call last)",
      "Cell \u001b[1;32mIn [108], line 9\u001b[0m\n\u001b[0;32m      6\u001b[0m net\u001b[39m.\u001b[39mzeroGradParameters()\n\u001b[0;32m      8\u001b[0m \u001b[39m# Forward\u001b[39;00m\n\u001b[1;32m----> 9\u001b[0m predictions \u001b[39m=\u001b[39m net\u001b[39m.\u001b[39;49mforward(x_batch)\n\u001b[0;32m     10\u001b[0m loss \u001b[39m=\u001b[39m criterion\u001b[39m.\u001b[39mforward(predictions, y_batch)\n\u001b[0;32m     12\u001b[0m \u001b[39m# Backward\u001b[39;00m\n",
      "File \u001b[1;32mc:\\Users\\user\\Desktop\\made\\ml\\lab02_deep_learning\\modules.py:26\u001b[0m, in \u001b[0;36mModule.forward\u001b[1;34m(self, input)\u001b[0m\n\u001b[0;32m     22\u001b[0m \u001b[39mdef\u001b[39;00m \u001b[39mforward\u001b[39m(\u001b[39mself\u001b[39m, \u001b[39minput\u001b[39m):\n\u001b[0;32m     23\u001b[0m     \u001b[39m\"\"\"\u001b[39;00m\n\u001b[0;32m     24\u001b[0m \u001b[39m    Takes an input object, and computes the corresponding output of the module.\u001b[39;00m\n\u001b[0;32m     25\u001b[0m \u001b[39m    \"\"\"\u001b[39;00m\n\u001b[1;32m---> 26\u001b[0m     \u001b[39mreturn\u001b[39;00m \u001b[39mself\u001b[39;49m\u001b[39m.\u001b[39;49mupdateOutput(\u001b[39minput\u001b[39;49m)\n",
      "File \u001b[1;32mc:\\Users\\user\\Desktop\\made\\ml\\lab02_deep_learning\\modules.py:157\u001b[0m, in \u001b[0;36mSequential.updateOutput\u001b[1;34m(self, input)\u001b[0m\n\u001b[0;32m    154\u001b[0m \u001b[39mself\u001b[39m\u001b[39m.\u001b[39moutput \u001b[39m=\u001b[39m \u001b[39minput\u001b[39m\n\u001b[0;32m    156\u001b[0m \u001b[39mfor\u001b[39;00m module \u001b[39min\u001b[39;00m \u001b[39mself\u001b[39m\u001b[39m.\u001b[39mmodules:\n\u001b[1;32m--> 157\u001b[0m     \u001b[39mself\u001b[39m\u001b[39m.\u001b[39moutput \u001b[39m=\u001b[39m module\u001b[39m.\u001b[39;49mforward(\u001b[39mself\u001b[39;49m\u001b[39m.\u001b[39;49moutput)\n\u001b[0;32m    159\u001b[0m \u001b[39mreturn\u001b[39;00m \u001b[39mself\u001b[39m\u001b[39m.\u001b[39moutput\n",
      "File \u001b[1;32mc:\\Users\\user\\Desktop\\made\\ml\\lab02_deep_learning\\modules.py:26\u001b[0m, in \u001b[0;36mModule.forward\u001b[1;34m(self, input)\u001b[0m\n\u001b[0;32m     22\u001b[0m \u001b[39mdef\u001b[39;00m \u001b[39mforward\u001b[39m(\u001b[39mself\u001b[39m, \u001b[39minput\u001b[39m):\n\u001b[0;32m     23\u001b[0m     \u001b[39m\"\"\"\u001b[39;00m\n\u001b[0;32m     24\u001b[0m \u001b[39m    Takes an input object, and computes the corresponding output of the module.\u001b[39;00m\n\u001b[0;32m     25\u001b[0m \u001b[39m    \"\"\"\u001b[39;00m\n\u001b[1;32m---> 26\u001b[0m     \u001b[39mreturn\u001b[39;00m \u001b[39mself\u001b[39;49m\u001b[39m.\u001b[39;49mupdateOutput(\u001b[39minput\u001b[39;49m)\n",
      "Cell \u001b[1;32mIn [102], line 25\u001b[0m, in \u001b[0;36mLinear.updateOutput\u001b[1;34m(self, _input)\u001b[0m\n\u001b[0;32m     23\u001b[0m \u001b[39mprint\u001b[39m(\u001b[39mself\u001b[39m\u001b[39m.\u001b[39mW)\n\u001b[0;32m     24\u001b[0m \u001b[39mprint\u001b[39m(\u001b[39mself\u001b[39m\u001b[39m.\u001b[39mb)\n\u001b[1;32m---> 25\u001b[0m \u001b[39mself\u001b[39m\u001b[39m.\u001b[39moutput \u001b[39m=\u001b[39m np\u001b[39m.\u001b[39;49mmatmul(_input, \u001b[39mself\u001b[39;49m\u001b[39m.\u001b[39;49mW) \u001b[39m+\u001b[39m \u001b[39mself\u001b[39m\u001b[39m.\u001b[39mb[\u001b[39mNone\u001b[39;00m,:]\n\u001b[0;32m     26\u001b[0m \u001b[39mreturn\u001b[39;00m \u001b[39mself\u001b[39m\u001b[39m.\u001b[39moutput\n",
      "\u001b[1;31mValueError\u001b[0m: matmul: Input operand 1 has a mismatch in its core dimension 0, with gufunc signature (n?,k),(k,m?)->(n?,m?) (size 784 is different from 2)"
     ]
    }
   ],
   "source": [
    "loss_history = []\n",
    "\n",
    "for i in range(n_epoch):\n",
    "    for x_batch, y_batch in get_batches((X, Y), batch_size):\n",
    "        \n",
    "        net.zeroGradParameters()\n",
    "        \n",
    "        # Forward\n",
    "        predictions = net.forward(x_batch)\n",
    "        loss = criterion.forward(predictions, y_batch)\n",
    "    \n",
    "        # Backward\n",
    "        dp = criterion.backward(predictions, y_batch)\n",
    "        net.backward(x_batch, dp)\n",
    "        \n",
    "        # Update weights\n",
    "        simple_sgd(net.getParameters(), \n",
    "                   net.getGradParameters(), \n",
    "                   optimizer_config,\n",
    "                   optimizer_state)      \n",
    "        \n",
    "        loss_history.append(loss)\n",
    "\n",
    "    # Visualize\n",
    "    display.clear_output(wait=True)\n",
    "    plt.figure(figsize=(8, 6))\n",
    "        \n",
    "    plt.title(\"Training loss\")\n",
    "    plt.xlabel(\"#iteration\")\n",
    "    plt.ylabel(\"loss\")\n",
    "    plt.plot(loss_history, 'b')\n",
    "    plt.show()\n",
    "    \n",
    "    print('Current loss: %f' % loss)    "
   ]
  },
  {
   "cell_type": "markdown",
   "metadata": {},
   "source": [
    "# Digit classification "
   ]
  },
  {
   "cell_type": "markdown",
   "metadata": {},
   "source": [
    "We are using old good [MNIST](http://yann.lecun.com/exdb/mnist/) as our dataset."
   ]
  },
  {
   "cell_type": "code",
   "execution_count": 32,
   "metadata": {},
   "outputs": [
    {
     "name": "stdout",
     "output_type": "stream",
     "text": [
      "Downloading train-images-idx3-ubyte.gz\n",
      "Downloading train-labels-idx1-ubyte.gz\n",
      "Downloading t10k-images-idx3-ubyte.gz\n",
      "Downloading t10k-labels-idx1-ubyte.gz\n"
     ]
    }
   ],
   "source": [
    "import mnist\n",
    "X_train, y_train, X_val, y_val, X_test, y_test = mnist.load_dataset()"
   ]
  },
  {
   "cell_type": "markdown",
   "metadata": {},
   "source": [
    "One-hot encode the labels first."
   ]
  },
  {
   "cell_type": "code",
   "execution_count": 61,
   "metadata": {},
   "outputs": [
    {
     "name": "stdout",
     "output_type": "stream",
     "text": [
      "(50000, 28, 28)\n",
      "(50000, 784)\n"
     ]
    }
   ],
   "source": [
    "import mnist\n",
    "from sklearn.preprocessing import OneHotEncoder\n",
    "\n",
    "X_train, y_train, X_val, y_val, X_test, y_test = mnist.load_dataset()  # your dataset\n",
    "print(X_train.shape)\n",
    "X_train = np.array([np.array(q.flatten()) for q in X_train])\n",
    "print(X_train.shape)\n",
    "X_val = np.array([np.array(q.flatten()) for q in X_val])\n",
    "X_test = np.array([np.array(q.flatten()) for q in X_test])\n",
    "\n",
    "encoder = OneHotEncoder(categories='auto', sparse=False)\n",
    "\n",
    "y_train = encoder.fit_transform(y_train.reshape(-1, 1))"
   ]
  },
  {
   "cell_type": "code",
   "execution_count": 75,
   "metadata": {},
   "outputs": [],
   "source": [
    "X_train, X_val, X_test = list(map(lambda x: x.reshape((x.shape[0], -1)), [X_train, X_val, X_test]))"
   ]
  },
  {
   "cell_type": "code",
   "execution_count": 63,
   "metadata": {},
   "outputs": [
    {
     "data": {
      "text/plain": [
       "(50000, 784)"
      ]
     },
     "execution_count": 63,
     "metadata": {},
     "output_type": "execute_result"
    }
   ],
   "source": [
    "X_train.shape"
   ]
  },
  {
   "cell_type": "code",
   "execution_count": 115,
   "metadata": {},
   "outputs": [
    {
     "name": "stdout",
     "output_type": "stream",
     "text": [
      "Linear 128 -> 784\n",
      "ReLU\n",
      "Linear 10 -> 128\n",
      "LogSoftMax\n",
      "\n"
     ]
    }
   ],
   "source": [
    "net = Sequential()\n",
    "net.add(Linear(784, 128))\n",
    "net.add(ReLU())\n",
    "net.add(Linear(128, 10))\n",
    "net.add(LogSoftMax())\n",
    "\n",
    "criterion = ClassNLLCriterion()\n",
    "\n",
    "print(net)"
   ]
  },
  {
   "cell_type": "code",
   "execution_count": 110,
   "metadata": {},
   "outputs": [],
   "source": [
    "# Iptimizer params\n",
    "optimizer_config = {'learning_rate' : 3e-3, 'beta1': 0.99, 'beta2': 0.99, 'epsilon': 1e-5}\n",
    "optimizer_state = {}\n",
    "\n",
    "# Looping params\n",
    "n_epoch = 1\n",
    "batch_size = 128"
   ]
  },
  {
   "cell_type": "code",
   "execution_count": 116,
   "metadata": {},
   "outputs": [
    {
     "data": {
      "image/png": "[encoded data removed]",
      "text/plain": [
       "<Figure size 1600x600 with 2 Axes>"
      ]
     },
     "metadata": {},
     "output_type": "display_data"
    },
    {
     "name": "stdout",
     "output_type": "stream",
     "text": [
      "Current loss: 2.324957\n"
     ]
    }
   ],
   "source": [
    "from sklearn.metrics import accuracy_score\n",
    "from tqdm import tqdm\n",
    "\n",
    "loss_history = []\n",
    "accuracy_history = []\n",
    "\n",
    "for i in range(n_epoch):\n",
    "    net.train()\n",
    "    for x_batch, y_batch in tqdm(get_batches((X_train, y_train), batch_size)):\n",
    "        \n",
    "        net.zeroGradParameters()\n",
    "        \n",
    "        # Forward\n",
    "        predictions = net.forward(x_batch)\n",
    "        loss = criterion.forward(predictions, y_batch)\n",
    "    \n",
    "        # Backward\n",
    "        dp = criterion.backward(predictions, y_batch)\n",
    "        net.backward(x_batch, dp)\n",
    "        \n",
    "        # Update weights\n",
    "        simple_sgd(net.getParameters(), \n",
    "                     net.getGradParameters(), \n",
    "                     optimizer_config,\n",
    "                     optimizer_state)      \n",
    "        \n",
    "        loss_history.append(loss)\n",
    "\n",
    "        break\n",
    "    \n",
    "    net.evaluate()\n",
    "    accuracy_history.append(accuracy_score(net.forward(X_val).argmax(axis=-1), y_val))\n",
    "    \n",
    "    # Visualize\n",
    "    display.clear_output(wait=True)\n",
    "    plt.figure(figsize=(16, 6))\n",
    "    \n",
    "    plt.subplot(1, 2, 1)    \n",
    "    plt.title(\"Training loss\")\n",
    "    plt.xlabel(\"#iteration\")\n",
    "    plt.ylabel(\"loss\")\n",
    "    plt.plot(loss_history, 'b')\n",
    "    \n",
    "    plt.subplot(1, 2, 2)\n",
    "    plt.title(\"Val accuracy\")\n",
    "    plt.xlabel(\"#epoch\")\n",
    "    plt.ylabel(\"accuracy\")\n",
    "    plt.plot(accuracy_history, 'b')\n",
    "    plt.show()\n",
    "    \n",
    "    print('Current loss: %f' % loss)   "
   ]
  },
  {
   "cell_type": "code",
   "execution_count": null,
   "metadata": {},
   "outputs": [],
   "source": []
  }
 ],
 "metadata": {
  "kernelspec": {
   "display_name": "Python 3",
   "language": "python",
   "name": "python3"
  },
  "language_info": {
   "codemirror_mode": {
    "name": "ipython",
    "version": 3
   },
   "file_extension": ".py",
   "mimetype": "text/x-python",
   "name": "python",
   "nbconvert_exporter": "python",
   "pygments_lexer": "ipython3",
   "version": "3.11.0 (main, Oct 24 2022, 18:26:48) [MSC v.1933 64 bit (AMD64)]"
  },
  "vscode": {
   "interpreter": {
    "hash": "de47f5c92c0ee6f12a59a5613ac5feff6aab19ddff207ba0b3964cced08c4ccc"
   }
  }
 },
 "nbformat": 4,
 "nbformat_minor": 1
}
